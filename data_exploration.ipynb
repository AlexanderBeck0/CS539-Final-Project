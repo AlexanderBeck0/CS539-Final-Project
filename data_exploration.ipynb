{
 "cells": [
  {
   "cell_type": "markdown",
   "id": "27294245",
   "metadata": {},
   "source": [
    "# Data Exploration"
   ]
  },
  {
   "cell_type": "code",
   "execution_count": null,
   "id": "49ca7f81",
   "metadata": {},
   "outputs": [],
   "source": [
    "# Load the data\n",
    "import numpy as np\n",
    "import pandas as pd\n",
    "\n",
    "data: pd.DataFrame = pd.read_csv(\"song_data.csv\")\n",
    "\n",
    "pd.set_option(\"mode.use_inf_as_na\", True)"
   ]
  },
  {
   "cell_type": "markdown",
   "id": "5af0ec3c",
   "metadata": {},
   "source": [
    "## Data Validity"
   ]
  },
  {
   "cell_type": "code",
   "execution_count": 7,
   "id": "7de323b8",
   "metadata": {},
   "outputs": [
    {
     "name": "stdout",
     "output_type": "stream",
     "text": [
      "Original data shape/size: (18835, 15)/282525\n",
      "Data after dropping na shape/size: (18835, 15)/282525\n",
      "No empty data in the dataset.\n"
     ]
    }
   ],
   "source": [
    "# Test for dropped data\n",
    "dropped_data: pd.DataFrame = data.dropna(how=\"any\", axis=0, inplace=False)\n",
    "\n",
    "print(f\"Original data shape/size: {data.shape}/{data.size}\")\n",
    "print(f\"Data after dropping na shape/size: {dropped_data.shape}/{dropped_data.size}\")\n",
    "\n",
    "if data.shape == dropped_data.shape:\n",
    "    print(\"No empty data in the dataset.\")\n",
    "else:\n",
    "    print(\"Empty data in the dataset.\")\n",
    "\n",
    "del dropped_data # Delete for memory's sake"
   ]
  },
  {
   "cell_type": "code",
   "execution_count": null,
   "id": "826c2c56",
   "metadata": {},
   "outputs": [
    {
     "name": "stdout",
     "output_type": "stream",
     "text": [
      "Original data shape/size: (18835, 15)/282525\n",
      "Data after dropping duplicates shape/size: (13070, 15)/196050\n",
      "Duplicate data in the dataset.\n"
     ]
    }
   ],
   "source": [
    "# Test for duplicates\n",
    "duplicate_data: pd.DataFrame = data.drop_duplicates(subset=['song_name'], inplace=False)\n",
    "\n",
    "print(f\"Original data shape/size: {data.shape}/{data.size}\")\n",
    "print(f\"Data after dropping duplicates shape/size: {duplicate_data.shape}/{duplicate_data.size}\")\n",
    "\n",
    "if data.shape == duplicate_data.shape:\n",
    "    print(\"No duplicate data in the dataset.\")\n",
    "else:\n",
    "    print(\"Duplicate data in the dataset.\")\n",
    "\n",
    "# TODO: Explore more about what is in the duplicate data\n",
    "\n",
    "del duplicate_data # Delete for memory's sake"
   ]
  },
  {
   "cell_type": "markdown",
   "id": "43810f07",
   "metadata": {},
   "source": [
    "## Data Patterns"
   ]
  },
  {
   "cell_type": "code",
   "execution_count": null,
   "id": "6f6e04e2",
   "metadata": {},
   "outputs": [],
   "source": [
    "# TODO: Plot data"
   ]
  },
  {
   "cell_type": "code",
   "execution_count": null,
   "id": "f494a709",
   "metadata": {},
   "outputs": [],
   "source": [
    "# TODO: Add heatmaps on data"
   ]
  },
  {
   "cell_type": "markdown",
   "id": "1e1eec45",
   "metadata": {},
   "source": [
    "# Data Modeling"
   ]
  },
  {
   "cell_type": "code",
   "execution_count": null,
   "id": "cae1907e",
   "metadata": {},
   "outputs": [],
   "source": [
    "# TODO: Linear Regression"
   ]
  },
  {
   "cell_type": "code",
   "execution_count": null,
   "id": "7f15b5ca",
   "metadata": {},
   "outputs": [],
   "source": [
    "# TODO: K-Means clustering"
   ]
  }
 ],
 "metadata": {
  "kernelspec": {
   "display_name": ".venv",
   "language": "python",
   "name": "python3"
  },
  "language_info": {
   "codemirror_mode": {
    "name": "ipython",
    "version": 3
   },
   "file_extension": ".py",
   "mimetype": "text/x-python",
   "name": "python",
   "nbconvert_exporter": "python",
   "pygments_lexer": "ipython3",
   "version": "3.11.9"
  }
 },
 "nbformat": 4,
 "nbformat_minor": 5
}
