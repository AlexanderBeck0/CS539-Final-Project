{
 "cells": [
  {
   "cell_type": "markdown",
   "id": "27294245",
   "metadata": {},
   "source": [
    "## Load Data"
   ]
  },
  {
   "cell_type": "code",
   "execution_count": null,
   "id": "49ca7f81",
   "metadata": {},
   "outputs": [
    {
     "name": "stdout",
     "output_type": "stream",
     "text": [
      "                    song_name  song_popularity  song_duration_ms  \\\n",
      "0  Boulevard of Broken Dreams               73            262333   \n",
      "1                  In The End               66            216933   \n",
      "2           Seven Nation Army               76            231733   \n",
      "3                  By The Way               74            216933   \n",
      "4           How You Remind Me               56            223826   \n",
      "\n",
      "   acousticness  danceability  energy  instrumentalness  key  liveness  \\\n",
      "0      0.005520         0.496   0.682          0.000029    8    0.0589   \n",
      "1      0.010300         0.542   0.853          0.000000    3    0.1080   \n",
      "2      0.008170         0.737   0.463          0.447000    0    0.2550   \n",
      "3      0.026400         0.451   0.970          0.003550    0    0.1020   \n",
      "4      0.000954         0.447   0.766          0.000000   10    0.1130   \n",
      "\n",
      "   loudness  audio_mode  speechiness    tempo  time_signature  audio_valence  \n",
      "0    -4.095           1       0.0294  167.060               4          0.474  \n",
      "1    -6.407           0       0.0498  105.256               4          0.370  \n",
      "2    -7.828           1       0.0792  123.881               4          0.324  \n",
      "3    -4.938           1       0.1070  122.444               4          0.198  \n",
      "4    -5.065           1       0.0313  172.011               4          0.574  \n"
     ]
    }
   ],
   "source": [
    "import numpy as np\n",
    "import pandas as pd\n",
    "\n",
    "data: pd.DataFrame = pd.read_csv(\"song_data.csv\")"
   ]
  }
 ],
 "metadata": {
  "kernelspec": {
   "display_name": ".venv",
   "language": "python",
   "name": "python3"
  },
  "language_info": {
   "codemirror_mode": {
    "name": "ipython",
    "version": 3
   },
   "file_extension": ".py",
   "mimetype": "text/x-python",
   "name": "python",
   "nbconvert_exporter": "python",
   "pygments_lexer": "ipython3",
   "version": "3.11.9"
  }
 },
 "nbformat": 4,
 "nbformat_minor": 5
}
